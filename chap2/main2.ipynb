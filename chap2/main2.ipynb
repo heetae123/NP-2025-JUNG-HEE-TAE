{
 "cells": [
  {
   "cell_type": "markdown",
   "id": "9cee2f34",
   "metadata": {},
   "source": [
    "# 2장 노트정리   \n",
    "이 파일은 2장 학습하면서 실행한 내용을 정리한 것이다.\n",
    "\n",
    "날짜 : 2025.9.9\n",
    "\n",
    "저자 : 정희태"
   ]
  },
  {
   "cell_type": "code",
   "execution_count": null,
   "id": "1dcc9c7b",
   "metadata": {},
   "outputs": [
    {
     "name": "stdout",
     "output_type": "stream",
     "text": [
      "Hello, 여러분!!\n"
     ]
    }
   ],
   "source": [
    "print(\"Hello, 여러분!!\")   "
   ]
  },
  {
   "cell_type": "markdown",
   "id": "df222d5c",
   "metadata": {},
   "source": [
    "# print가 뭘까?   \n",
    "\n",
    "print는 출력을 해주는 기본 함수이다.  \n",
    "이런 함수들은 과연 어떻게 동작할 것인가.   \n",
    "print는 파이썬 내부 라이브러리에 저장되어 있는 함수이다.   \n"
   ]
  },
  {
   "cell_type": "markdown",
   "id": "43835080",
   "metadata": {},
   "source": [
    "그렇다면 print는 어떻게 하드웨어에서 알아듣고 이를 모니터에 출력을 해주는가.   \n",
    "2가지로 나뉜다.    \n",
    "1.컴파일 단계\n",
    "토큰화 -> 파서 -> AST 생성 -> 바이트 코드 변환    \n",
    "토큰화를 통해 긴 문자열을 토큰하나하나로 만든다 -> 불필요한 데이터인 띄어쓰기 , 줄바꿈 같은 문자열을 제거를 위해서이다.\n",
    "토큰의 나열을 문법에 맞춰 구문 트리를 만든다    \n",
    "왜 많은 것들 중에 트리일까...?   \n",
    "   \n",
    "(1 + 2) * (3 + 4) 같은 코드를 보면, 단순한 순서/우선순위 태그만으로는 괄호 구조를 잘 표현하기 어렵다.\n",
    "\n",
    "리스트로만 관리하면 + 와 * 가 어디까지 적용되는지 경계가 모호해지므로\n",
    "\n",
    "트리는 노드의 범위가 명확히 한정되므로 중첩 구조 표현에 강력하다.   \n",
    "\n",
    "또한 \n",
    "\n",
    "Expr → Expr + Term | Term\n",
    "Term → Term * Factor | Factor\n",
    "Factor → Number\n",
    "\n",
    "이 부분을 정리하자면 \n",
    "Expr\n",
    " ├── Expr\n",
    " │    └── Factor(1)\n",
    " ├── +\n",
    " └── Term\n",
    "      ├── Term\n",
    "      │    └── Factor(2)\n",
    "      ├── *\n",
    "      └── Factor(3)\n",
    "\n",
    "이렇게 되는데 \n",
    "새로운 문법 추가 시에도 노드 타입 추가만으로 처리가 가능하다.\n",
    "확장성이 뛰어나고, 컴파일 자체에서도 이렇게 해석하므로 시간을 절약하는 과정에서 좋다\n",
    "\n",
    "파이썬 3.8미만은 토큰화 -> 파서 -> 파스 트리 -> ast 생성 -> 바이트 코드 변환\n",
    "토큰화 -> 파서 -> ast 생성(파스 트리 내장되어 있음) -> 바이트 코드 변환\n",
    "\n",
    "2.런타임 단계   \n",
    "\n",
    "Python 가상머신(PVM) 루프\n",
    "\n",
    "바이트코드를 한 줄씩 해석\n",
    "\n",
    "예: print(\"hello\")\n",
    "\n",
    "LOAD_NAME print      → print 함수 객체 스택에 push\n",
    "LOAD_CONST \"hello\"  → 문자열 객체 push\n",
    "CALL_FUNCTION        → print(\"hello\") 실행\n",
    "\n",
    "\n",
    "내장 함수 호출\n",
    "\n",
    "print → 내부적으로 sys.stdout.write(\"hello\\n\") 호출\n",
    "\n",
    "C 함수 호출 & 시스템콜\n",
    "\n",
    "CPython 내부에서 write() C 함수 호출\n",
    "\n",
    "write() → 유저모드 → 커널모드 전환(시스템콜)\n",
    "\n",
    "운영체제 개입\n",
    "\n",
    "커널이 stdout(터미널)을 찾아 문자열 데이터를 디바이스 드라이버로 전달\n",
    "\n",
    "디바이스 드라이버 → 모니터\n",
    "\n",
    "GPU/TTY를 통해 글자를 픽셀로 변환\n",
    "\n",
    "최종적으로 화면에 출력 → 사람이 확인"
   ]
  },
  {
   "cell_type": "markdown",
   "id": "04dc9af2",
   "metadata": {},
   "source": [
    "# 연습"
   ]
  },
  {
   "cell_type": "code",
   "execution_count": null,
   "id": "33ad6fec",
   "metadata": {},
   "outputs": [
    {
     "name": "stdout",
     "output_type": "stream",
     "text": [
      "30\n",
      "동명미래대학교\n",
      "abcabcabc\n",
      "25 32\n",
      "25 + 32 = 57\n"
     ]
    }
   ],
   "source": [
    "print(10+20) #() 속의 연산 결과 출력\n",
    "print(\"동명미래대학교\") # 문자열 출력\n",
    "print(\"abc\" * 3) #문자열 3번 출력\n",
    "\n",
    "x=25\n",
    "y=32\n",
    "z= x + y\n",
    "print(x, y) #변수 x, y 값 출력\n",
    "print(x, '+', y, '=', z) # 문자열과 변수 조합의 출력"
   ]
  },
  {
   "cell_type": "code",
   "execution_count": null,
   "id": "78229df6",
   "metadata": {},
   "outputs": [
    {
     "name": "stdout",
     "output_type": "stream",
     "text": [
      "30\n",
      "1020\n",
      "abcabcabc\n",
      "n=10\n",
      "m=5.2, n=10\n"
     ]
    }
   ],
   "source": [
    "print(10+20)\n",
    "print(\"10\"+\"20\") #문자열 결합\n",
    "print(\"abc\" * 3) #문자열 3번 출력\n",
    "n= 10\n",
    "print(\"n=%d\" %n) #서식지정출력\n",
    "m= 5.2\n",
    "print(\"m=%.1f, n=%d\" %(m,n)) #%.1f = 소솟점1자리까지표시"
   ]
  },
  {
   "cell_type": "markdown",
   "id": "d79834df",
   "metadata": {},
   "source": [
    "# input      \n",
    "\n",
    "1. 컴파일 단계\n",
    "\n",
    "토큰화\n",
    "\n",
    "예: input(\"Enter something: \") → [NAME(input), LPAREN, STRING(\"Enter something: \"), RPAREN]\n",
    "\n",
    "토큰화 → 파서 → AST → 바이트코드\n",
    "\n",
    "바이트코드 예시:\n",
    "\n",
    "LOAD_NAME input\n",
    "LOAD_CONST \"Enter something: \"\n",
    "CALL_FUNCTION\n",
    "STORE_NAME x\n",
    "\n",
    "2️. 런타임 단계\n",
    "\n",
    "Python 가상머신(PVM) 루프\n",
    "\n",
    "바이트코드를 한 줄씩 해석\n",
    "\n",
    "LOAD_NAME input → input 함수 객체 스택에 push\n",
    "\n",
    "LOAD_CONST \"Enter something: \" → 프롬프트 문자열 push\n",
    "\n",
    "CALL_FUNCTION → input() 호출\n",
    "\n",
    "STORE_NAME x → 사용자가 입력한 값을 변수 x에 저장\n",
    "\n",
    "내장 함수 동작\n",
    "\n",
    "input()은 Python 내부에서 사실상 이렇게 처리됨:\n",
    "\n",
    "def input(prompt=None):\n",
    "    if prompt:\n",
    "        sys.stdout.write(prompt)   # 프롬프트 출력\n",
    "    return sys.stdin.readline()    # 사용자 입력 대기\n",
    "\n",
    "\n",
    "C 함수 호출 & 시스템콜\n",
    "\n",
    "프롬프트 출력: sys.stdout.write() → write() → 커널 → 터미널\n",
    "\n",
    "사용자 입력 대기: sys.stdin.readline() → read() → 커널 → 터미널 버퍼 대기\n",
    "\n",
    "커널은 사용자가 엔터를 칠 때까지 블록(blocking) 상태로 대기\n",
    "\n",
    "운영체제 개입\n",
    "\n",
    "사용자가 입력 후 엔터를 누르면, 커널이 데이터를 유저모드로 전달\n",
    "\n",
    "Python은 읽은 문자열을 반환 → 변수 x에 저장\n",
    "\n",
    "최종 결과\n",
    "\n",
    "사용자 입력이 Python 변수에 저장됨\n",
    "\n",
    "입력 과정은 프롬프트 출력 + 터미널 입력 대기 + 데이터 반환으로 이루어짐"
   ]
  },
  {
   "cell_type": "code",
   "execution_count": null,
   "id": "4bf25a92",
   "metadata": {},
   "outputs": [],
   "source": [
    "n= input('type a number: ')\n",
    "\n",
    "print(n) # 문자열로 입력된다.\n",
    "n = float(n) #문자열을 실수형으로 변환\n",
    "n= str(3) #정수를 문자열로 변환\n",
    "print(n)"
   ]
  },
  {
   "cell_type": "code",
   "execution_count": null,
   "id": "8dd4b8b8",
   "metadata": {},
   "outputs": [],
   "source": [
    "name= input('Name: ') #문자열 입력\n",
    "print(\"Hello,\" +name)"
   ]
  },
  {
   "cell_type": "code",
   "execution_count": null,
   "id": "d52a4938",
   "metadata": {},
   "outputs": [],
   "source": [
    "a= int(input('Number 1: ')) # 문자열을 입력한 후 정수로 변환\n",
    "b= int(input('Number 2: '))\n",
    "print(a*b)"
   ]
  },
  {
   "cell_type": "code",
   "execution_count": null,
   "id": "35086933",
   "metadata": {},
   "outputs": [],
   "source": [
    "C= float(input(\"Type 섭씨온도: \")) #입력 문자열을 실수로 변환\n",
    "F= C*9/5 + 32 #온도 변화\n",
    "print(\"화씨온도는\", F)"
   ]
  },
  {
   "cell_type": "markdown",
   "id": "aa95addd",
   "metadata": {},
   "source": [
    "# 문자열   \n",
    "   \n",
    "문자열은 문자의 배열이라는 뜻이다.   \n",
    "우리가 생각하는 배열은 리스트로 해서 저장을 한다.   \n",
    "리스트에는 여러개의 데이터를 하나의 변수에 저장한다.   \n",
    "그럼 일반 변수에 저장하는 것과 여러개의 데이터를 저장한다는 의미는 아래 그림과 같이 저장된다.   \n",
    "\n",
    "c언어에서는 배열은 포인터로 참조가 가능하다.\n",
    "파이썬 모든 객체는 실제 값이 아니라 객체에 대한 참조(포인터) 로 저장된다\n",
    "이 객체는 리스트가 될 수도 있고 set, 딕셔너리, 튜플도 될 수 있다."
   ]
  },
  {
   "cell_type": "markdown",
   "id": "57d08770",
   "metadata": {},
   "source": [
    "![문자와 문자열 차이](../image/image1.png)"
   ]
  },
  {
   "cell_type": "markdown",
   "id": "ae3df551",
   "metadata": {},
   "source": [
    "그럼 리스트는 어떻게 저장되는 지 알았으니, 튜플, 셋, 딕셔너리에 대해서 설명해보겠다.\n",
    "\n",
    "튜플은 리스트에 비해 데이터를 바꿀 수가 없다. 리스트와 같은 원리로 저장되는 건 맞다.\n",
    "딕셔너리는 키를 해시해서 해시 테이블에 넣고, 삽입 순서를 따로 기록하는 작은 배열(또는 linked list 형태)에도 순서를 기록한다.\n",
    "즉, 엔트리에는 key, value, hash, next(데이터 충돌할 때 다른 entry를 참조하는 링크)가 저장되어 있고\n",
    "이 엔트리의 데이터를 해시화해서 해시테이블에 저장하는 것이다.\n",
    "키(key)를 입력 -> 해시 함수로 키를 해싱 → 해시값(hash) 생성 -> 해시 테이블에서 인덱스 계산 → 어느 칸(bucket)에 있는지 결정 -> 해시 테이블의 해당 인덱스가 가리키는 entry 검색\n",
    "충돌이 없다면 바로 그 entry\n",
    "충돌이 있다면 체인 연결(entry.next)을 따라가면서 key 비교\n",
    "일치하는 entry.key 발견 → entry.value 반환\n",
    "\n",
    "그럼 마지막 셋은 무엇이냐?\n",
    "셋은 딕셔너리와 같은 해시 테이블 기반으로 구현되어 있고 중복 없는 집합이다.\n",
    "\n"
   ]
  },
  {
   "cell_type": "markdown",
   "id": "9f0de9f9",
   "metadata": {},
   "source": [
    "3명 이상 친구 이름 리스트를 작성하고 다음 내용을 프로그램하시오   \n",
    "• insert()로 맨 앞에 새로운 친구 추가   \n",
    "• insert()로 3번째 위치에 새로운 친구 추가   \n",
    "• append()로 마지막에 친구 추가   \n",
    "❖ 리스트 [1, 2, 3]에 대해 다음과 같은 처리를 하라.   \n",
    "• 두 번째 요소를 17로 수정   \n",
    "• 리스트에 4, 5, 6을 추가   \n",
    "• 첫 번째 요소 제거   \n",
    "• 리스트를 요소 순서대로 배열하기   \n",
    "• 인덱스 3에 25넣기   "
   ]
  },
  {
   "cell_type": "code",
   "execution_count": null,
   "id": "d6c40ac4",
   "metadata": {},
   "outputs": [],
   "source": [
    "# 1번 연습 문제\n",
    "# 초기 친구 리스트 (3명 이상)\n",
    "friends = [\"철수\", \"영희\", \"민수\"]\n",
    "\n",
    "# 1) 맨 앞에 새로운 친구 추가\n",
    "friends.insert(0, \"지민\")\n",
    "\n",
    "# 2) 3번째 위치에 새로운 친구 추가 (인덱스 2)\n",
    "friends.insert(2, \"하늘\")\n",
    "\n",
    "# 3) 마지막에 친구 추가\n",
    "friends.append(\"수지\")\n",
    "\n",
    "print(\"최종 친구 리스트:\", friends)"
   ]
  },
  {
   "cell_type": "code",
   "execution_count": null,
   "id": "e0e424c6",
   "metadata": {},
   "outputs": [],
   "source": [
    "#2번 연습 문제\n",
    "nums = [1, 2, 3]\n",
    "\n",
    "# 1) 두 번째 요소를 17로 수정\n",
    "nums[1] = 17\n",
    "\n",
    "# 2) 리스트에 4, 5, 6 추가\n",
    "nums.extend([4, 5, 6])\n",
    "\n",
    "# 3) 첫 번째 요소 제거\n",
    "del nums[0]\n",
    "\n",
    "# 4) 리스트를 요소 순서대로 배열하기\n",
    "nums.sort()\n",
    "\n",
    "# 5) 인덱스 3에 25 넣기\n",
    "nums.insert(3, 25)\n",
    "\n",
    "print(\"최종 nums 리스트:\", nums)"
   ]
  },
  {
   "cell_type": "markdown",
   "id": "4b2ceb14",
   "metadata": {},
   "source": [
    "for 루프를 이용하여 다음과 같은 리스트를 생성하라.    \n",
    "• 0~49까지의 수로 구성되는 리스트   \n",
    "• 1~50까지 수의 제곱으로 구성되는 리스트    \n",
    "2. 크기가 같은 두 개의 리스트 L, M을 생성하고 두 리스트의 각 요소 합으로 구성되는 새로운 리스트를 생성하라. (예를 들어 L=[1,2,3]이고 M=[4,5,6]이면 [5,7,9]인 리스트 생성)"
   ]
  },
  {
   "cell_type": "code",
   "execution_count": null,
   "id": "b0cc860d",
   "metadata": {},
   "outputs": [],
   "source": [
    "# 1번 연습문제\n",
    "# 0~49까지의 수\n",
    "list1 = [i for i in range(50)]\n",
    "print(\"0~49 리스트:\", list1)\n",
    "\n",
    "# 1~50까지 수의 제곱\n",
    "list2 = [i**2 for i in range(1, 51)]\n",
    "print(\"1~50 제곱 리스트:\", list2)\n"
   ]
  },
  {
   "cell_type": "code",
   "execution_count": null,
   "id": "1ced45b5",
   "metadata": {},
   "outputs": [],
   "source": [
    "# # 2번 연습문제\n",
    "L = [1, 2, 3]\n",
    "M = [4, 5, 6]\n",
    "\n",
    "# for 루프 이용\n",
    "sum_list = []\n",
    "for i in range(len(L)):\n",
    "    sum_list.append(L[i] + M[i])\n",
    "\n",
    "print(\"요소 합 리스트:\", sum_list)\n"
   ]
  },
  {
   "cell_type": "markdown",
   "id": "a7f2a180",
   "metadata": {},
   "source": [
    "다음 딕셔너리에 대해 물음에 답하라.   \n",
    "days = {'January':31, 'February':28, 'March':31, 'April':30,\n",
    "'May':31, 'June':30, 'July':31, 'August':31,\n",
    "'September':30, 'October':31, 'November':30, 'December':31}   \n",
    "• 사용자가 월을 입력하면 해당 월에 일수를 출력하라   \n",
    "• 알파벳 순서로 모든 월을 출력하라   \n",
    "• 일수가 31인 월을 모두 출력하라   \n",
    "• 월의 일수를 기준으로 오름차순으로 (key-value) 쌍을 출력하라   \n",
    "• 사용자가 월을 3자리만 입력하면 월의 일수를 출력하라.(Jan, Feb 등)   "
   ]
  },
  {
   "cell_type": "code",
   "execution_count": null,
   "id": "8e77ec05",
   "metadata": {},
   "outputs": [],
   "source": [
    "days = {\n",
    "    'January': 31, 'February': 28, 'March': 31, 'April': 30,\n",
    "    'May': 31, 'June': 30, 'July': 31, 'August': 31,\n",
    "    'September': 30, 'October': 31, 'November': 30, 'December': 31\n",
    "}\n",
    "\n",
    "# 1) 사용자가 월을 입력하면 해당 월의 일수 출력\n",
    "month = input(\"월 이름을 입력하세요: \")\n",
    "if month in days:\n",
    "    print(f\"{month}는 {days[month]}일까지 있습니다.\")\n",
    "else:\n",
    "    print(\"잘못된 월 입력입니다.\")\n",
    "\n",
    "# 2) 알파벳 순서로 모든 월 출력\n",
    "print(\"\\n알파벳 순서 월 목록:\")\n",
    "for m in sorted(days.keys()):\n",
    "    print(m)\n",
    "\n",
    "# 3) 일수가 31인 월 출력\n",
    "print(\"\\n일수가 31일인 월:\")\n",
    "for m, d in days.items():\n",
    "    if d == 31:\n",
    "        print(m)\n",
    "\n",
    "# 4) 월의 일수를 기준으로 오름차순으로 (key-value) 출력\n",
    "print(\"\\n일수 기준 오름차순 정렬:\")\n",
    "for m, d in sorted(days.items(), key=lambda x: x[1]):\n",
    "    print(m, \":\", d)\n",
    "\n",
    "# 5) 사용자가 3자리만 입력하면 월의 일수 출력 (Jan, Feb 등)\n",
    "abbr = input(\"\\n3자리 월 약어를 입력하세요 (예: Jan, Feb): \")\n",
    "found = False\n",
    "for m in days:\n",
    "    if m.startswith(abbr):\n",
    "        print(f\"{m}는 {days[m]}일까지 있습니다.\")\n",
    "        found = True\n",
    "        break\n",
    "if not found:\n",
    "    print(\"잘못된 월 약어입니다.\")\n"
   ]
  },
  {
   "cell_type": "markdown",
   "id": "d3050251",
   "metadata": {},
   "source": [
    "1. 5와 3을 더한 값을 출력하는 프로그램을 작성하라.   \n",
    "2. 7에서 3을 뺀 값을 출력하는 프로그램을 작성하라.   \n",
    "3. 4를 2로 나눈 값을 출력하는 프로그램을 작성하라.   \n",
    "4. 8을 3으로 나눈 몫과 나머지를 출력하는 프로그램을 작성하라.   \n",
    "5. 2의 5제곱을 출력하는 프로그램을 작성하라.   \n",
    "6. 입력된 정수가 10보다 크고 20보다 작은지 검사하는 프로그램을 작성하라.   \n",
    "7. 문자열 \"hello\"와 문자열 \"world\"를 이어 붙인 결과를 출력하는 프로그램을 작성하라.   \n",
    "8. 7을 2로 나눈 결과가 3보다 작은지 검사하는 프로그램을 작성하라.   \n",
    "9. 변수 x의 값이 5와 같지 않은지 검사하는 프로그램을 작성하라.   \n",
    "10. 변수 y의 값이 10에서 20 사이의 값인지 검사하는 프로그램을 작성하라   "
   ]
  },
  {
   "cell_type": "code",
   "execution_count": null,
   "id": "7f341548",
   "metadata": {},
   "outputs": [],
   "source": [
    "# 1. 5와 3을 더한 값 출력\n",
    "print(5 + 3)\n",
    "\n",
    "# 2. 7에서 3을 뺀 값 출력\n",
    "print(7 - 3)\n",
    "\n",
    "# 3. 4를 2로 나눈 값 출력\n",
    "print(4 / 2)\n",
    "\n",
    "# 4. 8을 3으로 나눈 몫과 나머지 출력\n",
    "print(\"몫:\", 8 // 3)\n",
    "print(\"나머지:\", 8 % 3)\n",
    "\n",
    "# 5. 2의 5제곱 출력\n",
    "print(2 ** 5)\n",
    "\n",
    "# 6. 입력된 정수가 10보다 크고 20보다 작은지 검사\n",
    "num = int(input(\"정수를 입력하세요: \"))\n",
    "print(10 < num < 20)\n",
    "\n",
    "# 7. 문자열 \"hello\"와 \"world\" 이어붙여 출력\n",
    "print(\"hello\" + \"world\")\n",
    "\n",
    "# 8. 7을 2로 나눈 결과가 3보다 작은지 검사\n",
    "print((7 / 2) < 3)\n",
    "\n",
    "# 9. 변수 x의 값이 5와 같지 않은지 검사\n",
    "x = 7\n",
    "print(x != 5)\n",
    "\n",
    "# 10. 변수 y의 값이 10에서 20 사이인지 검사\n",
    "y = 15\n",
    "print(10 < y < 20)"
   ]
  },
  {
   "cell_type": "markdown",
   "id": "9f01b72f",
   "metadata": {},
   "source": [
    "1. 숫자 7이 리스트 [1, 2, 3, 4, 5]에 포함되어 있는지 검사하는 프로그램을 작성하라.   \n",
    "2. 문자열 \"apple\"이 세트 {\"orange\", \"banana\", \"kiwi\"}에 포함되어 있는지 검사하는 프로\n",
    "그램을 작성하라.    \n",
    "3. 숫자 6이 딕셔너리 {\"a\": 1, \"b\": 2, \"c\": 3, \"d\": 4}의 값들 중 하나인지 검사하는 프로그램을\n",
    "작성하라.   \n",
    "4. 문자열 \"cat\"이 튜플 (\"dog\", \"cat\", \"bird\", \"hamster\")에 포함되어 있는지 검사하는 프로\n",
    "그램을 작성하라.   \n",
    "5. 숫자 10이 세트 {2, 4, 6, 8, 10}에 포함되어 있는지 검사하는 프로그램을 작성하라.   "
   ]
  },
  {
   "cell_type": "code",
   "execution_count": null,
   "id": "0a4015d0",
   "metadata": {},
   "outputs": [],
   "source": [
    "# 1. 숫자 7이 리스트 [1, 2, 3, 4, 5]에 포함되어 있는지 검사\n",
    "nums = [1, 2, 3, 4, 5]\n",
    "print(7 in nums)   # False\n",
    "\n",
    "# 2. 문자열 \"apple\"이 세트 {\"orange\", \"banana\", \"kiwi\"}에 포함되어 있는지 검사\n",
    "fruits = {\"orange\", \"banana\", \"kiwi\"}\n",
    "print(\"apple\" in fruits)   # False\n",
    "\n",
    "# 3. 숫자 6이 딕셔너리 {\"a\": 1, \"b\": 2, \"c\": 3, \"d\": 4}의 값들 중 하나인지 검사\n",
    "d = {\"a\": 1, \"b\": 2, \"c\": 3, \"d\": 4}\n",
    "print(6 in d.values())   # False\n",
    "\n",
    "# 4. 문자열 \"cat\"이 튜플 (\"dog\", \"cat\", \"bird\", \"hamster\")에 포함되어 있는지 검사\n",
    "animals = (\"dog\", \"cat\", \"bird\", \"hamster\")\n",
    "print(\"cat\" in animals)   # True\n",
    "\n",
    "# 5. 숫자 10이 세트 {2, 4, 6, 8, 10}에 포함되어 있는지 검사\n",
    "numbers = {2, 4, 6, 8, 10}\n",
    "print(10 in numbers)   # True"
   ]
  },
  {
   "cell_type": "markdown",
   "id": "752b47c0",
   "metadata": {},
   "source": [
    "1. 초를 입력하면 분과 초로 표시하는 프로그램. 예를 들어, 200초를 입력하면 3분 20초로 표현하라   \n",
    "2. 분(min)을 입력 하면, 일, 시간, 분으로 출력하는 프로그램을 만들어라. (예 : 1550분은 1일 1 시간 50분)    \n",
    "3. 500만원을 년이율 5%로 복리 저금했을 때 5년 후의 원리금의 합계를 출력하는 프로그램    \n",
    "4. 1부터 n까지의 합은 n(n+1)/2로 주어진다. 1부터 100까지의 합을 구하여 출력하는 프로그램을 작성하고 실행하라.    \n",
    "5. 판매자가 딸기와 포도를 판매하고 있다.    포도 한 알의 무게는 75g이고 딸기 한 알의 무게는 113.5g이다.    사용자로부터 포도 알의 개수와 딸기의 개수를 입력 받아 총 무게를 계산하여 출력 하는 프로그램을 작성하고 실행하라."
   ]
  },
  {
   "cell_type": "code",
   "execution_count": null,
   "id": "c6b373b3",
   "metadata": {},
   "outputs": [],
   "source": [
    "# 1번 문제\n",
    "seconds = int(input(\"초를 입력하세요: \"))\n",
    "minutes = seconds // 60\n",
    "remain_sec = seconds % 60\n",
    "print(f\"{seconds}초는 {minutes}분 {remain_sec}초입니다.\")"
   ]
  },
  {
   "cell_type": "code",
   "execution_count": null,
   "id": "049d573f",
   "metadata": {},
   "outputs": [],
   "source": [
    "# 2번 문제\n",
    "minutes = int(input(\"분을 입력하세요: \"))\n",
    "days = minutes // (24 * 60)\n",
    "hours = (minutes % (24 * 60)) // 60\n",
    "remain_min = minutes % 60\n",
    "print(f\"{minutes}분은 {days}일 {hours}시간 {remain_min}분입니다.\")"
   ]
  },
  {
   "cell_type": "code",
   "execution_count": null,
   "id": "94c10e62",
   "metadata": {},
   "outputs": [],
   "source": [
    "# 3번 문제\n",
    "principal = 5000000  # 500만원\n",
    "rate = 0.05\n",
    "years = 5\n",
    "\n",
    "amount = principal * (1 + rate) ** years\n",
    "print(f\"5년 후 원리금 합계: {amount:.0f}원\")"
   ]
  },
  {
   "cell_type": "code",
   "execution_count": null,
   "id": "073152af",
   "metadata": {},
   "outputs": [],
   "source": [
    "# 4번 문제\n",
    "n = 100\n",
    "sum_value = n * (n + 1) // 2\n",
    "print(f\"1부터 100까지의 합: {sum_value}\")"
   ]
  },
  {
   "cell_type": "code",
   "execution_count": null,
   "id": "78dde490",
   "metadata": {},
   "outputs": [],
   "source": [
    "# 5번 문제\n",
    "grape_weight = 75       # g\n",
    "strawberry_weight = 113.5  # g\n",
    "\n",
    "grapes = int(input(\"포도 알 개수: \"))\n",
    "strawberries = int(input(\"딸기 개수: \"))\n",
    "\n",
    "total_weight = grapes * grape_weight + strawberries * strawberry_weight\n",
    "print(f\"총 무게는 {total_weight} g 입니다.\")"
   ]
  }
 ],
 "metadata": {
  "kernelspec": {
   "display_name": "Python 3",
   "language": "python",
   "name": "python3"
  },
  "language_info": {
   "codemirror_mode": {
    "name": "ipython",
    "version": 3
   },
   "file_extension": ".py",
   "mimetype": "text/x-python",
   "name": "python",
   "nbconvert_exporter": "python",
   "pygments_lexer": "ipython3",
   "version": "3.12.3"
  }
 },
 "nbformat": 4,
 "nbformat_minor": 5
}
