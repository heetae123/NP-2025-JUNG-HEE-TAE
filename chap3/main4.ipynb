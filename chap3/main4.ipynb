{
 "cells": [
  {
   "cell_type": "markdown",
   "id": "2208ac4f",
   "metadata": {},
   "source": [
    "# ❖프로그램은 작성 순서대로 실행\n",
    "# ❖제어문: 프로그램의 실행 순서를 바꾸는 문장\n",
    "## • 조건문\n",
    "### -if, if-else, if-elif-else\n",
    "## • 반복문\n",
    "### -while\n",
    "### -for\n",
    "## • 기타 제어문\n",
    "### -break\n",
    "### -continue"
   ]
  },
  {
   "cell_type": "markdown",
   "id": "4a483ce6",
   "metadata": {},
   "source": [
    "### if 문\n",
    " - 조건을 만족할 때 정해진 문장 블록을 실행   \n",
    " - 조건이 참(True)이면 블록을 실행하고 아니면 블록을 건너뛴다   \n",
    " - 조건이 참(True)이면 Block1을 실행하고 else: 는 무시   \n",
    " - 참(True)이 아니면 else: 다음 Block2를 실행"
   ]
  },
  {
   "cell_type": "code",
   "execution_count": null,
   "id": "eed0a739",
   "metadata": {},
   "outputs": [],
   "source": [
    "num = 10\n",
    "\n",
    "if num > 0:\n",
    "    print(\"양수입니다\")\n",
    "elif num == 0:\n",
    "    print(\"0입니다\")\n",
    "else:\n",
    "    print(\"음수입니다\")\n"
   ]
  },
  {
   "cell_type": "markdown",
   "id": "75b15e42",
   "metadata": {},
   "source": [
    "### while 문\n",
    " - 조건이 만족되면 블록을 실행하고 다시 조건을 조사   \n",
    " - 조건이 만족되지 않으면 다음 문장 실행"
   ]
  },
  {
   "cell_type": "code",
   "execution_count": null,
   "id": "0e0c7f62",
   "metadata": {},
   "outputs": [],
   "source": [
    "count = 0\n",
    "\n",
    "while count < 5:\n",
    "    print(f\"현재 카운트: {count}\")\n",
    "    count += 1\n"
   ]
  },
  {
   "cell_type": "markdown",
   "id": "92fdd0b5",
   "metadata": {},
   "source": [
    "### for 문\n",
    "- • [반복객체]의 각 요소의 값을 하나씩 [변수]에 저장하고 블록을 실행   \n",
    "- [반복객체]에 더 이상의 요소가 없을 때까지 반복   \n",
    "- 튜플, 문자열과 같은 반복 객체를 사용할 수도 있다.   \n"
   ]
  },
  {
   "cell_type": "code",
   "execution_count": null,
   "id": "858e4581",
   "metadata": {},
   "outputs": [],
   "source": [
    "fruits = [\"사과\", \"바나나\", \"체리\"]\n",
    "\n",
    "for fruit in fruits:\n",
    "    print(fruit)\n"
   ]
  },
  {
   "cell_type": "markdown",
   "id": "39511d7b",
   "metadata": {},
   "source": [
    "### for-range 문\n",
    " - range() 함수는 반복 객체 (iterable)를 생성하는 함수   \n",
    " - 변수 값을 start부터 시작하여 step 만큼 증가시키며 stop될 때까지 실행. step=1이면 생략   "
   ]
  },
  {
   "cell_type": "code",
   "execution_count": null,
   "id": "fe29d5cb",
   "metadata": {},
   "outputs": [],
   "source": [
    "for i in range(5):  # 0 ~ 4\n",
    "    print(i)\n",
    "\n",
    "for i in range(1, 6):  # 1 ~ 5\n",
    "    print(i)\n"
   ]
  },
  {
   "cell_type": "markdown",
   "id": "e876d9a1",
   "metadata": {},
   "source": [
    "### break 문\n",
    "• 반복문을 빠져나올 때 사용   \n",
    "### continue 문\n",
    "• 블록의 나머지 부분은 생략하고 다시 while 조건 조사   \n",
    "### match\n",
    "- 변수 값이나 구조와 패턴에 따라 여러 경우(조건)를 분기 처리"
   ]
  },
  {
   "cell_type": "code",
   "execution_count": null,
   "id": "15f51278",
   "metadata": {},
   "outputs": [],
   "source": [
    "def describe_point(point):\n",
    "    match point:\n",
    "        case (0, 0):\n",
    "            return \"원점\"\n",
    "        case (x, 0):\n",
    "            return f\"x축 위: x={x}\"\n",
    "        case (0, y):\n",
    "            return f\"y축 위: y={y}\"\n",
    "        case (x, y):\n",
    "            return f\"점({x}, {y})\"\n",
    "        case _:\n",
    "            return \"알 수 없는 점\"\n",
    "\n",
    "print(describe_point((0, 0)))  # 원점\n",
    "print(describe_point((3, 0)))  # x축 위: x=3\n",
    "print(describe_point((0, 7)))  # y축 위: y=7\n",
    "print(describe_point((3, 4)))  # 점(3, 4)\n"
   ]
  }
 ],
 "metadata": {
  "language_info": {
   "name": "python"
  }
 },
 "nbformat": 4,
 "nbformat_minor": 5
}
