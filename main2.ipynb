{
 "cells": [
  {
   "cell_type": "markdown",
   "id": "9cee2f34",
   "metadata": {},
   "source": [
    "# 2장 노트정리   \n",
    "이 파일은 2장 학습하면서 실행한 내용을 정리한 것이다.\n",
    "\n",
    "날짜 : 2025.9.9\n",
    "\n",
    "저자 : 정희태"
   ]
  },
  {
   "cell_type": "code",
   "execution_count": 1,
   "id": "1dcc9c7b",
   "metadata": {},
   "outputs": [
    {
     "name": "stdout",
     "output_type": "stream",
     "text": [
      "Hello, 여러분!!\n"
     ]
    }
   ],
   "source": [
    "print(\"Hello, 여러분!!\")   \n"
   ]
  },
  {
   "cell_type": "markdown",
   "id": "df222d5c",
   "metadata": {},
   "source": [
    "# print가 뭘까?   \n",
    "\n",
    "print는 출력을 해주는 기본 함수이다.  \n",
    "이런 함수들은 과연 어떻게 동작할 것인가.   \n",
    "print는 파이썬 내부 라이브러리에 저장되어 있는 함수이다.   \n"
   ]
  },
  {
   "cell_type": "markdown",
   "id": "43835080",
   "metadata": {},
   "source": [
    "그렇다면 print는 어떻게 하드웨어에서 알아듣고 이를 모니터에 출력을 해주는가.   \n",
    "2가지로 나뉜다.    \n",
    "1.컴파일 단계\n",
    "토큰화 -> 파서 -> AST 생성 -> 바이트 코드 변환    \n",
    "토큰화를 통해 긴 문자열을 토큰하나하나로 만든다 -> 불필요한 데이터인 띄어쓰기 , 줄바꿈 같은 문자열을 제거를 위해서이다.\n",
    "토큰의 나열을 문법에 맞춰 구문 트리를 만든다    \n",
    "왜 많은 것들 중에 트리일까...?   \n",
    "   \n",
    "(1 + 2) * (3 + 4) 같은 코드를 보면, 단순한 순서/우선순위 태그만으로는 괄호 구조를 잘 표현하기 어렵다.\n",
    "\n",
    "리스트로만 관리하면 + 와 * 가 어디까지 적용되는지 경계가 모호해지므로\n",
    "\n",
    "트리는 노드의 범위가 명확히 한정되므로 중첩 구조 표현에 강력하다.   \n",
    "\n",
    "또한 \n",
    "\n",
    "Expr → Expr + Term | Term\n",
    "Term → Term * Factor | Factor\n",
    "Factor → Number\n",
    "\n",
    "이 부분을 정리하자면 \n",
    "Expr\n",
    " ├── Expr\n",
    " │    └── Factor(1)\n",
    " ├── +\n",
    " └── Term\n",
    "      ├── Term\n",
    "      │    └── Factor(2)\n",
    "      ├── *\n",
    "      └── Factor(3)\n",
    "\n",
    "이렇게 되는데 \n",
    "새로운 문법 추가 시에도 노드 타입 추가만으로 처리가 가능하다.\n",
    "확장성이 뛰어나고, 컴파일 자체에서도 이렇게 해석하므로 시간을 절약하는 과정에서 좋다\n",
    "\n",
    "파이썬 3.8미만은 토큰화 -> 파서 -> 파스 트리 -> ast 생성 -> 바이트 코드 변환\n",
    "토큰화 -> 파서 -> ast 생성(파스 트리 내장되어 있음) -> 바이트 코드 변환\n",
    "\n",
    "2.런타임 단계   \n",
    "\n",
    "Python 가상머신(PVM) 루프\n",
    "\n",
    "바이트코드를 한 줄씩 해석\n",
    "\n",
    "예: print(\"hello\")\n",
    "\n",
    "LOAD_NAME print      → print 함수 객체 스택에 push\n",
    "LOAD_CONST \"hello\"  → 문자열 객체 push\n",
    "CALL_FUNCTION        → print(\"hello\") 실행\n",
    "\n",
    "\n",
    "내장 함수 호출\n",
    "\n",
    "print → 내부적으로 sys.stdout.write(\"hello\\n\") 호출\n",
    "\n",
    "C 함수 호출 & 시스템콜\n",
    "\n",
    "CPython 내부에서 write() C 함수 호출\n",
    "\n",
    "write() → 유저모드 → 커널모드 전환(시스템콜)\n",
    "\n",
    "운영체제 개입\n",
    "\n",
    "커널이 stdout(터미널)을 찾아 문자열 데이터를 디바이스 드라이버로 전달\n",
    "\n",
    "디바이스 드라이버 → 모니터\n",
    "\n",
    "GPU/TTY를 통해 글자를 픽셀로 변환\n",
    "\n",
    "최종적으로 화면에 출력 → 사람이 확인"
   ]
  },
  {
   "cell_type": "markdown",
   "id": "04dc9af2",
   "metadata": {},
   "source": [
    "# 연습"
   ]
  },
  {
   "cell_type": "code",
   "execution_count": null,
   "id": "33ad6fec",
   "metadata": {},
   "outputs": [],
   "source": [
    "print(10+20) #() 속의 연산 결과 출력\n",
    "print(\"동명미래대학교\") # 문자열 출력\n",
    "print(\"abc\" * 3) #문자열 3번 출력\n",
    "\n",
    "x=25\n",
    "y=32\n",
    "z= x + y\n",
    "print(x, y) #변수 x, y 값 출력\n",
    "print(x, '+', y, '=', z) # 문자열과 변수 조합의 출력"
   ]
  },
  {
   "cell_type": "code",
   "execution_count": 1,
   "id": "78229df6",
   "metadata": {},
   "outputs": [
    {
     "name": "stdout",
     "output_type": "stream",
     "text": [
      "30\n",
      "1020\n",
      "abcabcabc\n",
      "n=10\n",
      "m=5.2, n=10\n"
     ]
    }
   ],
   "source": [
    "print(10+20)\n",
    "print(\"10\"+\"20\") #문자열 결합\n",
    "print(\"abc\" * 3) #문자열 3번 출력\n",
    "n= 10\n",
    "print(\"n=%d\" %n) #서식지정출력\n",
    "m= 5.2\n",
    "print(\"m=%.1f, n=%d\" %(m,n)) #%.1f = 소솟점1자리까지표시"
   ]
  },
  {
   "cell_type": "markdown",
   "id": "d79834df",
   "metadata": {},
   "source": [
    "# input      \n",
    "\n",
    "1. 컴파일 단계\n",
    "\n",
    "토큰화\n",
    "\n",
    "예: input(\"Enter something: \") → [NAME(input), LPAREN, STRING(\"Enter something: \"), RPAREN]\n",
    "\n",
    "토큰화 → 파서 → AST → 바이트코드\n",
    "\n",
    "바이트코드 예시:\n",
    "\n",
    "LOAD_NAME input\n",
    "LOAD_CONST \"Enter something: \"\n",
    "CALL_FUNCTION\n",
    "STORE_NAME x\n",
    "\n",
    "2️. 런타임 단계\n",
    "\n",
    "Python 가상머신(PVM) 루프\n",
    "\n",
    "바이트코드를 한 줄씩 해석\n",
    "\n",
    "LOAD_NAME input → input 함수 객체 스택에 push\n",
    "\n",
    "LOAD_CONST \"Enter something: \" → 프롬프트 문자열 push\n",
    "\n",
    "CALL_FUNCTION → input() 호출\n",
    "\n",
    "STORE_NAME x → 사용자가 입력한 값을 변수 x에 저장\n",
    "\n",
    "내장 함수 동작\n",
    "\n",
    "input()은 Python 내부에서 사실상 이렇게 처리됨:\n",
    "\n",
    "def input(prompt=None):\n",
    "    if prompt:\n",
    "        sys.stdout.write(prompt)   # 프롬프트 출력\n",
    "    return sys.stdin.readline()    # 사용자 입력 대기\n",
    "\n",
    "\n",
    "C 함수 호출 & 시스템콜\n",
    "\n",
    "프롬프트 출력: sys.stdout.write() → write() → 커널 → 터미널\n",
    "\n",
    "사용자 입력 대기: sys.stdin.readline() → read() → 커널 → 터미널 버퍼 대기\n",
    "\n",
    "커널은 사용자가 엔터를 칠 때까지 블록(blocking) 상태로 대기\n",
    "\n",
    "운영체제 개입\n",
    "\n",
    "사용자가 입력 후 엔터를 누르면, 커널이 데이터를 유저모드로 전달\n",
    "\n",
    "Python은 읽은 문자열을 반환 → 변수 x에 저장\n",
    "\n",
    "최종 결과\n",
    "\n",
    "사용자 입력이 Python 변수에 저장됨\n",
    "\n",
    "입력 과정은 프롬프트 출력 + 터미널 입력 대기 + 데이터 반환으로 이루어짐"
   ]
  },
  {
   "cell_type": "code",
   "execution_count": null,
   "id": "07128492",
   "metadata": {},
   "outputs": [],
   "source": [
    "n= input('type a number: ')\n",
    "\n",
    "print(n) # 문자열로 입력된다.\n",
    "n = int(n) #문자열을 정수로 변환\n",
    "n = float(n) #문자열을 실수형으로 변환\n",
    "n= str(3) #정수를 문자열로 변환\n",
    "print(n)"
   ]
  },
  {
   "cell_type": "code",
   "execution_count": null,
   "id": "8dd4b8b8",
   "metadata": {},
   "outputs": [],
   "source": [
    "name= input('Name: ') #문자열 입력\n",
    "print(\"Hello,\" +name)"
   ]
  },
  {
   "cell_type": "code",
   "execution_count": null,
   "id": "d52a4938",
   "metadata": {},
   "outputs": [],
   "source": [
    "a= int(input('Number 1: ')) # 문자열을 입력한 후 정수로 변환\n",
    "b= int(input('Number 2: '))\n",
    "print(a*b)"
   ]
  },
  {
   "cell_type": "code",
   "execution_count": null,
   "id": "35086933",
   "metadata": {},
   "outputs": [],
   "source": [
    "C= float(input(\"Type 섭씨온도: \")) #입력 문자열을 실수로 변환\n",
    "F= C*9/5 + 32 #온도 변화\n",
    "print(\"화씨온도는\", F)"
   ]
  }
 ],
 "metadata": {
  "kernelspec": {
   "display_name": "Python 3",
   "language": "python",
   "name": "python3"
  },
  "language_info": {
   "codemirror_mode": {
    "name": "ipython",
    "version": 3
   },
   "file_extension": ".py",
   "mimetype": "text/x-python",
   "name": "python",
   "nbconvert_exporter": "python",
   "pygments_lexer": "ipython3",
   "version": "3.12.3"
  }
 },
 "nbformat": 4,
 "nbformat_minor": 5
}
