{
 "cells": [
  {
   "cell_type": "markdown",
   "id": "c5254347",
   "metadata": {},
   "source": [
    "# Python"
   ]
  },
  {
   "cell_type": "markdown",
   "id": "1b70a268",
   "metadata": {},
   "source": [
    "객체지향 프로그래밍은 객체의 속성과 동작을 나타내는 것을 의미한다   \n",
    "\n",
    "그렇다면 객체는 무엇인가?   \n",
    "객체란 상태와 행동을 가진 독립적인 프로그래밍 단위이다   \n",
    "\n",
    "파이썬은 객체 지향 프로그래밍이다. 파이썬은 c언어를 통해서 만들어진 객체 프로그래밍이므로   \n",
    "여기서 나오는 클래스를 사용한다   \n",
    "\n",
    "클래스란 무엇인가?   \n",
    "상태와 행동을 가진 독립적인 프로그래밍 단위의 큰 범위라고 생각하면 좋다   \n"
   ]
  },
  {
   "cell_type": "code",
   "execution_count": 1,
   "id": "35d1a028",
   "metadata": {},
   "outputs": [
    {
     "name": "stdout",
     "output_type": "stream",
     "text": [
      "홍길동\n"
     ]
    }
   ],
   "source": [
    "class Test: #클래스 정의\n",
    " name = \"홍길동\" #클래스 속성\n",
    "t = Test() #객체 생성\n",
    "print(t.name) \n"
   ]
  },
  {
   "cell_type": "markdown",
   "id": "0968cd7c",
   "metadata": {},
   "source": [
    "이 함수는 초기화를 하지 않았다. 왜냐하면 초기화를 한다는 것은 객체가 처음 만들어질 때 가져야 할 속성을 설정하는 과정이다.   \n",
    "이를 자세하게 말하면 메모리 공간에 기본 값을 할당해야 하는데 초기화되지 않고 이전에 다른 데이터가 쓰인 부분에 참조하여 잘못된 값을 사용할 수 있기 때문이다.   \n",
    "따라서 우리는 __init__은 필수 사용하는 것이 좋다.   "
   ]
  },
  {
   "cell_type": "code",
   "execution_count": 2,
   "id": "de5f6bcd",
   "metadata": {},
   "outputs": [
    {
     "ename": "SyntaxError",
     "evalue": "expected ':' (4143459758.py, line 2)",
     "output_type": "error",
     "traceback": [
      "  \u001b[36mCell\u001b[39m\u001b[36m \u001b[39m\u001b[32mIn[2]\u001b[39m\u001b[32m, line 2\u001b[39m\n\u001b[31m    \u001b[39m\u001b[31mdef __init__(self, color, speed)#: 초기화 메소드. self는 객체를 나타냄\u001b[39m\n                                    ^\n\u001b[31mSyntaxError\u001b[39m\u001b[31m:\u001b[39m expected ':'\n"
     ]
    }
   ],
   "source": [
    "class Car :\n",
    " def __init__(self, color, speed)#: 초기화 메소드. self는 객체를 나타냄\n",
    " self.color = color #인스턴스 변수 정의\n",
    " self.speed = speed\n"
   ]
  },
  {
   "cell_type": "code",
   "execution_count": null,
   "id": "eaa91079",
   "metadata": {},
   "outputs": [],
   "source": [
    "class Calc:\n",
    "    count = 0  # 클래스 변수 (모든 인스턴스가 공유)\n",
    "\n",
    "    def add(self, a=0, b=0):\n",
    "        self.a = a  # 인스턴스 변수\n",
    "        self.b = b\n",
    "        Calc.count += 1  # 클래스 변수는 클래스명.변수명으로 접근하는 게 안전\n",
    "        return self.a + self.b\n",
    "\n",
    "    def minus(self, a, b):\n",
    "        if a == 0 or b == 0:\n",
    "            # 0이 하나라도 있으면 (차이, 현재 연산 횟수)를 튜플로 반환\n",
    "            return a - b, Calc.count\n",
    "        else:\n",
    "            return a - b\n"
   ]
  },
  {
   "cell_type": "markdown",
   "id": "cee33d18",
   "metadata": {},
   "source": [
    "두 코드의 차이점은 무엇이냐... 첫 번째 코드는 객체 변수를 선언했다는 것이고   \n",
    "두 번째 코드는 클래스 변수를 선언했다는 것이다.   \n"
   ]
  },
  {
   "cell_type": "markdown",
   "id": "de11a61e",
   "metadata": {},
   "source": [
    "그러면 왜 이렇게 한 것이냐라고 물어본다면 객체 변수를 사용한다는 것은 여러개의 객체가 하나의 변수를 공유하지 않는다는 뜻이고 클래스 변수를 사용한다는 것은 여러개의 객체가 하나의 변수를 공유하면서 사용하겠다는 뜻이 된다.\n"
   ]
  },
  {
   "cell_type": "markdown",
   "id": "6186dca8",
   "metadata": {},
   "source": [
    "클래스에서는 상속도 가능하다.   \n",
    "자바에서는 상속이 1개밖에 안되지만(단일 상속), 파이썬에서는 다중 상속을 지원하기 때문에 자바에서는 다중 상속을 하려면 인터페이스를 이용하지만   \n",
    "파이썬에서는 그런 수작업이 필요 없다.   "
   ]
  },
  {
   "cell_type": "markdown",
   "id": "6b4ae94c",
   "metadata": {},
   "source": [
    "그렇다면 파이썬에서 다중 상속이 되는 이유부터 찾아보자.   \n",
    "C3 Linearization라는 알고리즘을 통해서 다중 상속을 지원한다 그럼 C3 Linearization이라는 알고리즘이 무엇인가?   "
   ]
  },
  {
   "cell_type": "markdown",
   "id": "194adb62",
   "metadata": {},
   "source": [
    "dddd"
   ]
  },
  {
   "cell_type": "markdown",
   "id": "9fbfbd28",
   "metadata": {},
   "source": [
    "상속되는 이유도 알아봤으니 상속을 할 때 메소드를 개선하고자 지우거나, 추가하거나, 수정하기를 할 때 용어가 있다. \n",
    "그것이 ### 오버라이딩, 오버로딩 ### 이다"
   ]
  },
  {
   "cell_type": "markdown",
   "id": "abe5247e",
   "metadata": {},
   "source": [
    "오버라이딩은 자식 클래스에서 부모 클래스의 메소드를 수정해 다시 정의하는 것을 의미하고\n",
    "오버로딩은 자식 클래스에서 부모 클래스의 메소드가 받는 인자의 타입이 다를 때 다른 함수가 나오게 만드는 것이다 어떻게 보면 오버로딩은 추가라고 볼 수 있다"
   ]
  },
  {
   "cell_type": "markdown",
   "id": "009e2e40",
   "metadata": {},
   "source": [
    "다형성이라는 것은 컴파일 다형성과 런타임 다형성으로 나뉘게 되는데    \n",
    "컴파일 다형성은 같은 이름의 메서드를 매개변수의 타입과 갯수에 따라 다르게 정의할 수 있고   \n",
    "   \n",
    "-> 메서드를 호출할 때 컴파일러가 어떤 버젼을 쓸지 결정   \n",
    "   \n",
    "런타임 다형성은 부모 클래스의 메서드를 자식 클래스가 재정의해서 다른 동작을 하게 한다   \n",
    "   \n",
    "-> 실제 실행 시점에 어떤 클래스의 메서드가 실행될 지 결정\n"
   ]
  },
  {
   "cell_type": "code",
   "execution_count": null,
   "id": "6286c435",
   "metadata": {},
   "outputs": [],
   "source": [
    "class People : #부모 클래스\n",
    "    def __init__(self, age=0, name=None):\n",
    "        self.__age = age\n",
    "        self.__name = name\n",
    "    def introMe(self):\n",
    "        print(\"Name :\", self.__name, \"age :\", str(self.__age))\n",
    "class Student(People) : #자식 클래스\n",
    " def __init__(self, age=0, name=None, grade=None):\n",
    "    super().__init__(age, name)\n",
    "    self.__grade = grade #자식 클래스의 변수\n",
    " def introMe(self): #부모 클래스 메소드를 재정의(오버라이딩)\n",
    "    super().introMe()\n",
    "    print(\"Grade : \", self.__grade)"
   ]
  },
  {
   "cell_type": "markdown",
   "id": "d17da79e",
   "metadata": {},
   "source": [
    "여기서 보면 부모 클래스 People은 변수 초기화를 해줬고, age를 받으면 객체 변수에 저장하게도 만들어놨다.   \n",
    "그리고 메소드를 보게 되면 이름, 나이를 출력하게 만들었지만   \n",
    "자식 클래스를 봤을 경우 People이라는 클래스를 상속받은 Student는 부모의 변수와 다른 자기 자신의 변수를 통해 출력이 되는 것이다.   \n"
   ]
  },
  {
   "cell_type": "markdown",
   "id": "66a0385d",
   "metadata": {},
   "source": [
    "### 그럼 오버로딩(다형성)을 보자"
   ]
  },
  {
   "cell_type": "code",
   "execution_count": null,
   "id": "35b393cc",
   "metadata": {},
   "outputs": [],
   "source": [
    "class Calculator:\n",
    "    def add(self, *args):\n",
    "        return sum(args)\n",
    "\n",
    "\n",
    "calc = Calculator()\n",
    "\n",
    "print(calc.add(5))        # 5\n",
    "print(calc.add(5, 3))     # 8\n",
    "print(calc.add(5, 3, 2))  # 10\n",
    "print(calc.add(1, 2, 3, 4, 5))  # 15\n"
   ]
  },
  {
   "cell_type": "markdown",
   "id": "a0b35970",
   "metadata": {},
   "source": [
    "실질적으로 보았을 땐 자바와 많이 달라 보이겠지만, 코드를 이해해보면 상당히 비슷한 부분이 있다.   \n",
    "add라는 함수를 보면 결국 파이썬 라이브러리이며, 더해주는 함수를 의미한다 또한 sum이라는 객체 변수를 선언하여 계산한 값을 보여주게 된다"
   ]
  },
  {
   "cell_type": "markdown",
   "id": "9939e955",
   "metadata": {},
   "source": [
    "여기서 알아야할 것은 매개변수가 5이든, 5,3이든 매개변수가 다르면 나오는 출력 값이 달라진다는 것에 의의를 두고 봐야한다.   \n",
    " 결국 계산 값은 더하는 것이라고 해서 똑같다고 생각하면 안된다.   \n",
    "이렇게 자바와 비슷하게 사용 가능하다는 것을 파이썬에서는 보여주고 있다."
   ]
  },
  {
   "cell_type": "markdown",
   "id": "96619746",
   "metadata": {},
   "source": [
    "Moneybox 클래스를 작성하라. 이 클래스는 저축한 총액을 저장하는 인스턴스 변수가 있다.   \n",
    "deposit(money) 메서드는 인수로 주어진 금액만큼 저축하고 총액을 출력한다,   \n",
    "extract(money) 메소드는 money를 인출하고 총액을 출력한다. get_total() 메소드는 총액을\n",
    "알려준다.   \n",
    "❖ my_money = Moneybox() 객체를 생성하고 1000원을 저축하고, 200원을 인출한 다음, 총액\n",
    "을 출력하라."
   ]
  },
  {
   "cell_type": "code",
   "execution_count": null,
   "id": "d5434864",
   "metadata": {},
   "outputs": [],
   "source": [
    "class Moneybox:\n",
    "    def __init__(self):\n",
    "        # 총액을 저장하는 인스턴스 변수\n",
    "        self.total = 0  \n",
    "\n",
    "    def deposit(self, money):\n",
    "        self.total += money\n",
    "        print(f\"{money}원을 저축했습니다. 현재 총액: {self.total}원\")\n",
    "\n",
    "    def extract(self, money):\n",
    "        if money <= self.total:\n",
    "            self.total -= money\n",
    "            print(f\"{money}원을 인출했습니다. 현재 총액: {self.total}원\")\n",
    "        else:\n",
    "            print(\"잔액이 부족하여 인출할 수 없습니다.\")\n",
    "\n",
    "    def get_total(self):\n",
    "        return self.total\n",
    "\n",
    "\n",
    "# 실행 예시\n",
    "my_money = Moneybox()\n",
    "my_money.deposit(1000)   # 1000원 저축\n",
    "my_money.extract(200)    # 200원 인출\n",
    "print(\"최종 총액:\", my_money.get_total(), \"원\")\n"
   ]
  },
  {
   "cell_type": "markdown",
   "id": "3226777a",
   "metadata": {},
   "source": [
    "Password_manager 클래스를 작성하라. 이 클래스는 사용자의 모든 과거 패스워드를 저장하는 old_passwords 리스트 변수를 갖는다.   \n",
    "리스트의 마지막 요소는 현재 패스워드이다.   \n",
    "현재 패스워드를 알려주는 get_password와 새로운 패스워드를 설정하는 set_password 메소드를 정의하라.    \n",
    "set_password는 과거에 사용하지 않은 새로운 패스워드를 설정할 때만 유효하다.    \n",
    "문자열을 입력받아 현재 패스워드와 같은지 True 또는 False를 반환하는 is_correct 메소드를 정의\n",
    "하라.\n"
   ]
  },
  {
   "cell_type": "code",
   "execution_count": null,
   "id": "9c8ee070",
   "metadata": {},
   "outputs": [],
   "source": [
    "class Password_manager:\n",
    "    def __init__(self):\n",
    "        # 과거 패스워드 저장 리스트 (마지막 요소 = 현재 패스워드)\n",
    "        self.old_passwords = []\n",
    "\n",
    "    def get_password(self):\n",
    "        if self.old_passwords:\n",
    "            return self.old_passwords[-1]  # 마지막 요소 = 현재 패스워드\n",
    "        return None\n",
    "\n",
    "    def set_password(self, new_password):\n",
    "        if new_password in self.old_passwords:\n",
    "            print(\"이미 사용한 패스워드입니다. 다른 패스워드를 입력하세요.\")\n",
    "            return False\n",
    "        self.old_passwords.append(new_password)\n",
    "        print(f\"새 패스워드 '{new_password}'가 설정되었습니다.\")\n",
    "        return True\n",
    "\n",
    "    def is_correct(self, password):\n",
    "        current_password = self.get_password()\n",
    "        return password == current_password\n"
   ]
  },
  {
   "cell_type": "markdown",
   "id": "6f2dbeee",
   "metadata": {},
   "source": [
    "Articles 클래스를 작성하라. 이 클래스는 각각 제품의 이름, 재고 수량, 단가를 나타내는 name, stock, price 인스턴스 변수를 가지고 있다.   \n",
    "offer_price() 메소드는 구매 수량을 인수로 전달받아 총 가격을 반환한다.   \n",
    "구매 수량이 1~10개 이하이면 정상 가격을 반환하고, 11~50개이면 5% 할인된 가격을 반환한다.    \n",
    "또 51개 이상이면 10% 할인해 준다.    \n",
    "purchase() 메소드는 구매 수량을 인수로 전달받아 재고 수량을 구매 수량만큼 감소한다.   \n",
    "   \n",
    "이 클래스를 이용하여 단가 1000원인 ”mask“를 10,000장으로 설정하고, 40장 구매 가격과 구매 후 재고를 출력하라.  "
   ]
  },
  {
   "cell_type": "code",
   "execution_count": null,
   "id": "b570bd2b",
   "metadata": {},
   "outputs": [],
   "source": [
    "class Articles:\n",
    "    def __init__(self, name, stock, price):\n",
    "        self.name = name      # 제품명\n",
    "        self.stock = stock    # 재고 수량\n",
    "        self.price = price    # 단가\n",
    "\n",
    "    def offer_price(self, quantity):\n",
    "        \"\"\"구매 수량에 따른 총 가격 계산\"\"\"\n",
    "        if quantity <= 0:\n",
    "            return 0\n",
    "\n",
    "        total = self.price * quantity\n",
    "\n",
    "        if 11 <= quantity <= 50:\n",
    "            total *= 0.95  # 5% 할인\n",
    "        elif quantity >= 51:\n",
    "            total *= 0.90  # 10% 할인\n",
    "\n",
    "        return total\n",
    "\n",
    "    def purchase(self, quantity):\n",
    "        \"\"\"구매 시 재고 감소\"\"\"\n",
    "        if quantity <= 0:\n",
    "            print(\"유효한 수량이 아닙니다.\")\n",
    "            return False\n",
    "\n",
    "        if quantity > self.stock:\n",
    "            print(f\"재고 부족: 현재 재고 {self.stock}개입니다.\")\n",
    "            return False\n",
    "\n",
    "        self.stock -= quantity\n",
    "        print(f\"{quantity}개 구매 완료. 남은 재고: {self.stock}개\")\n",
    "        return True\n",
    "mask = Articles(\"mask\", 10000, 1000)  # 단가 1000원, 재고 10000장\n",
    "\n",
    "purchase_quantity = 40\n",
    "total_price = mask.offer_price(purchase_quantity)  # 구매 가격 계산\n",
    "mask.purchase(purchase_quantity)                   # 재고 감소\n",
    "\n",
    "print(f\"40장 구매 가격: {total_price}원\")\n",
    "print(f\"구매 후 재고: {mask.stock}장\")\n"
   ]
  },
  {
   "cell_type": "markdown",
   "id": "47f5b9f0",
   "metadata": {},
   "source": [
    "다음 프로그램을 실행했을 때 아래 내용이 출력되도록 클래스를 정의하라.    \n",
    "학번(id) 앞 4자리가 2018보다 작으면 grade() 메소드에 의해 “3학년입니다“가 출력되고 아니면 ”3학년이 아닙니다“가 출력된다."
   ]
  },
  {
   "cell_type": "code",
   "execution_count": null,
   "id": "c0c0920c",
   "metadata": {},
   "outputs": [],
   "source": [
    "class Student:\n",
    "    def __init__(self, name, id, dept):\n",
    "        self.name = name\n",
    "        self.id = id\n",
    "        self.dept = dept\n",
    "\n",
    "    def grade(self):\n",
    "        year = int(str(self.id)[:4])  # 학번 앞 4자리 추출\n",
    "        if year < 2018:\n",
    "            print(\"3학년입니다\")\n",
    "        else:\n",
    "            print(\"3학년이 아닙니다\")\n"
   ]
  },
  {
   "cell_type": "markdown",
   "id": "2c3f42cb",
   "metadata": {},
   "source": [
    "다음 Person 클래스를 상속 받는 Employee 클래스를 정의하라.   \n",
    "Employee 클래스에 employeeID 속성을 추가하고 getID() 메소드를 정의하라.    \n",
    "getID() 메소드는 employeeID를 반환하는 메소드이다.   \n",
    "Employee 클래스를 이용하여 Employee(\"동양\", 65, 2019)로 생성된 객체의 이름, 나이, ID를 출력하라.   \n"
   ]
  },
  {
   "cell_type": "code",
   "execution_count": null,
   "id": "0e71d4d6",
   "metadata": {},
   "outputs": [],
   "source": [
    "class Person:\n",
    "    def __init__(self, name, age):\n",
    "        self.name = name\n",
    "        self.age = age\n",
    "\n",
    "    def getName(self):\n",
    "        print(self.name)\n",
    "\n",
    "    def getAge(self):\n",
    "        print(self.age)\n",
    "\n",
    "class Employee(Person):\n",
    "    def __init__(self, name, age, employeeID):\n",
    "        super().__init__(name, age)  # 부모 클래스 초기화\n",
    "        self.employeeID = employeeID\n",
    "\n",
    "    def getID(self):\n",
    "        return self.employeeID\n",
    "    \n",
    "emp = Employee(\"동양\", 65, 2019)\n",
    "\n",
    "print(\"이름:\", emp.name)\n",
    "print(\"나이:\", emp.age)\n",
    "print(\"ID:\", emp.getID())\n",
    "\n"
   ]
  },
  {
   "cell_type": "markdown",
   "id": "1cdf207b",
   "metadata": {},
   "source": [
    "## 가시성"
   ]
  },
  {
   "cell_type": "markdown",
   "id": "d4f49c58",
   "metadata": {},
   "source": [
    "public: 이름 앞에 밑줄 없음 (예: value)   \n",
    "→ 어디서나 접근 가능   \n",
    "• protected: 이름 앞에 밑줄 1개 (예: _value)   \n",
    "→ 하위 클래스에서 접근 권장, 외부에서 직접 접근은 권장하지 않음   \n",
    "• private: 이름 앞에 밑줄 2개 (예: __value)   \n",
    "\n"
   ]
  },
  {
   "cell_type": "markdown",
   "id": "7ad5fee6",
   "metadata": {},
   "source": [
    "## 데코레이터"
   ]
  },
  {
   "cell_type": "markdown",
   "id": "6760b44c",
   "metadata": {},
   "source": [
    "함수나 클래스의 동작을 수정하거나 확장하는 함수이다.\n",
    "이 말이 무엇이면 아래 코드를 보자"
   ]
  },
  {
   "cell_type": "code",
   "execution_count": null,
   "id": "5c81ea53",
   "metadata": {},
   "outputs": [],
   "source": [
    "def my_decorator(func):\n",
    "    def wrapper():\n",
    "        print(\"함수 실행 전 추가 작업\")\n",
    "        func()  # 원래 함수 실행\n",
    "        print(\"함수 실행 후 추가 작업\")\n",
    "    return wrapper\n",
    "\n",
    "@my_decorator\n",
    "def say_hello():\n",
    "    print(\"안녕하세요!\")\n",
    "\n",
    "say_hello()\n"
   ]
  },
  {
   "cell_type": "markdown",
   "id": "59bdecd9",
   "metadata": {},
   "source": [
    "my_decorator이라는 함수를 만들었고 이를 확장시키기 위해서 @my_decorator라고 했다.   \n",
    "이 말은 my decorator의 say_hello가 추가 되었다라고 말할 수 있다.   \n",
    "왜 이러한 일이 발생하는가?   \n",
    "   \n",
    "그것은 바로 아래 그림과 같이 작동하기 때문이다"
   ]
  },
  {
   "cell_type": "markdown",
   "id": "91437f4f",
   "metadata": {},
   "source": [
    "![문자와 문자열 차이](../image/image2.png)"
   ]
  },
  {
   "cell_type": "markdown",
   "id": "edf1d336",
   "metadata": {},
   "source": [
    "@my_decorator 자체가 \"say_hello 함수를 인자로 받아 새로운 함수(Wrapper)를 반환하는 함수 호출\"**이 되는 거다.   \n",
    "\n",
    "그래서 데코레이터 내부 로직이 먼저 실행되고,그 안에서 원래 함수(여기서는 say_hello)가 나중에 실행된다.   "
   ]
  },
  {
   "cell_type": "code",
   "execution_count": null,
   "id": "6dbeae1f",
   "metadata": {
    "vscode": {
     "languageId": "ini"
    }
   },
   "outputs": [],
   "source": [
    "def my_decorator(func):\n",
    "    print(\"데코레이터가 정의될 때 실행\")  # 함수 정의 시 실행\n",
    "    def wrapper():\n",
    "        print(\"wrapper 함수 시작\")\n",
    "        func()  # 원래 함수 실행\n",
    "        print(\"wrapper 함수 끝\")\n",
    "    return wrapper\n",
    "    \n",
    "@my_decorator\n",
    "def say_hello():\n",
    "    print(\"안녕하세요!\")\n",
    "\n",
    "# say_hello = my_decorator(say_hello) 이렇게 변환한 뒤 실행이 되는 것이다."
   ]
  },
  {
   "cell_type": "code",
   "execution_count": null,
   "id": "72772f01",
   "metadata": {},
   "outputs": [
    {
     "ename": "SyntaxError",
     "evalue": "invalid character '→' (U+2192) (2256191265.py, line 21)",
     "output_type": "error",
     "traceback": [
      "  \u001b[36mCell\u001b[39m\u001b[36m \u001b[39m\u001b[32mIn[4]\u001b[39m\u001b[32m, line 21\u001b[39m\n\u001b[31m    \u001b[39m\u001b[31msay_hello() 호출 시 wrapper 함수 실행 → 그 안에서 원래 함수 실행\u001b[39m\n                                   ^\n\u001b[31mSyntaxError\u001b[39m\u001b[31m:\u001b[39m invalid character '→' (U+2192)\n"
     ]
    }
   ],
   "source": [
    "def my_decorator(func):\n",
    "    print(\"데코레이터가 정의될 때 실행\")  # 함수 정의 시 실행\n",
    "    def wrapper():\n",
    "        print(\"wrapper 함수 시작\")\n",
    "        func()  # 원래 함수 실행\n",
    "        print(\"wrapper 함수 끝\")\n",
    "    return wrapper\n",
    "\n",
    "@my_decorator\n",
    "def say_hello():\n",
    "    print(\"안녕하세요!\")\n",
    "\n",
    "say_hello()\n",
    "\n",
    "\n",
    "\n",
    "# @my_decorator → my_decorator(say_hello) 호출\n",
    "\n",
    "# 이때 my_decorator 내부 로직이 실행되고 새로운 함수(wrapper)를 반환\n",
    "\n",
    "# say_hello() 호출 시 wrapper 함수 실행 → 그 안에서 원래 함수 실행"
   ]
  }
 ],
 "metadata": {
  "kernelspec": {
   "display_name": "Python 3",
   "language": "python",
   "name": "python3"
  },
  "language_info": {
   "codemirror_mode": {
    "name": "ipython",
    "version": 3
   },
   "file_extension": ".py",
   "mimetype": "text/x-python",
   "name": "python",
   "nbconvert_exporter": "python",
   "pygments_lexer": "ipython3",
   "version": "3.12.3"
  }
 },
 "nbformat": 4,
 "nbformat_minor": 5
}
